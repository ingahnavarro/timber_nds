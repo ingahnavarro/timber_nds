{
 "cells": [
  {
   "cell_type": "markdown",
   "id": "9fe78daf",
   "metadata": {},
   "source": [
    "# Librerías"
   ]
  },
  {
   "cell_type": "code",
   "execution_count": null,
   "id": "402f25d5",
   "metadata": {},
   "outputs": [],
   "source": [
    "\n",
    "import numpy as np\n",
    "import timber_nds.essentials as essentials\n",
    "from timber_nds.calculation import WeightCalculator, effective_length, radius_of_gyration, polar_moment_of_inertia, RectangularSectionProperties\n",
    "from timber_nds.design import SummarizeFactors\n",
    "    "
   ]
  },
  {
   "cell_type": "markdown",
   "id": "0133f352",
   "metadata": {},
   "source": [
    "# Parámetros"
   ]
  },
  {
   "cell_type": "markdown",
   "id": "e73eb8b6",
   "metadata": {},
   "source": [
    "\n",
    "A continuación, se definen todos los parámetros necesarios para el cuaderno, incluyendo factores de reducción de resistencia, propiedades de materiales y dimensiones geométricas.\n",
    "\n",
    "**Factores de Reducción de Resistencia:**\n",
    "\n",
    "*   `phi_tension`: Factor de reducción de resistencia para tensión.\n",
    "*   `phi_bending`: Factor de reducción de resistencia para flexión.\n",
    "*   `phi_shear`: Factor de reducción de resistencia para corte.\n",
    "*   `phi_compression`: Factor de reducción de resistencia para compresión.\n",
    "*    `phi_perp_compression`: Factor de reducción de resistencia para compresión perpendicular a la fibra.\n",
    "\n",
    "**Propiedades del Material:**\n",
    "\n",
    "*   `species`: Especie de madera.\n",
    "*   `specific_gravity`: Gravedad específica de la madera.\n",
    "*   `fibre_saturation_point`: Punto de saturación de la fibra de la madera (%).\n",
    "*   `moisture_content`: Contenido de humedad de la madera (%).\n",
    "*   `e_modulus`: Módulo de elasticidad de la madera (Pa).\n",
    "*  `fb`: Resistencia a la flexión (Pa).\n",
    "* `ft`: Resistencia a la tracción (Pa).\n",
    "* `fv`: Resistencia al corte (Pa).\n",
    "* `fc`: Resistencia a la compresión paralela a la fibra (Pa).\n",
    "* `fc_perp`: Resistencia a la compresión perpendicular a la fibra (Pa).\n",
    "\n",
    "**Dimensiones Geométricas:**\n",
    "\n",
    "*   `width`: Ancho de la sección transversal (m).\n",
    "*   `depth`: Profundidad de la sección transversal (m).\n",
    "*   `length`: Longitud del elemento (m).\n",
    "*   `k_factor`: Factor de longitud efectiva.\n",
    "\n",
    "**Factores de Ajuste:**\n",
    "\n",
    "*   Se definen varios factores de ajuste para tensión, flexión, corte, compresión, compresión perpendicular a la fibra y módulo de elasticidad.\n"
   ]
  },
  {
   "cell_type": "code",
   "execution_count": null,
   "id": "cec48462",
   "metadata": {},
   "outputs": [],
   "source": [
    "\n",
    "# Factors\n",
    "phi_tension = 0.90\n",
    "phi_bending = 0.85\n",
    "phi_shear = 0.75\n",
    "phi_compression = 0.90\n",
    "phi_perp_compression = 0.65\n",
    "\n",
    "# Material Properties\n",
    "species = \"Douglas Fir-Larch\"\n",
    "specific_gravity = 0.50\n",
    "fibre_saturation_point = 28\n",
    "moisture_content = 19\n",
    "e_modulus = 12400000000 # Pa\n",
    "fb = 25000000 # Pa\n",
    "ft = 15000000 # Pa\n",
    "fv = 3000000 # Pa\n",
    "fc = 17000000 # Pa\n",
    "fc_perp = 4000000 # Pa\n",
    "\n",
    "\n",
    "# Geometry\n",
    "width = 0.150 # m\n",
    "depth = 0.300 # m\n",
    "length = 4 # m\n",
    "k_factor = 1.0\n",
    "\n",
    "#Adjustment Factors\n",
    "#Tension\n",
    "ft_factors = essentials.TensionAdjustmentFactors(\n",
    "    load_duration_factor = 1.0,\n",
    "    wet_service_factor = 0.85,\n",
    "    temperature_factor = 1.0,\n",
    "    size_factor = 1.0,\n",
    "    incising_factor = 1.0\n",
    ")\n",
    "#Bending\n",
    "fb_factors = essentials.BendingAdjustmentFactors(\n",
    "    load_duration_factor = 1.0,\n",
    "    wet_service_factor = 0.85,\n",
    "    temperature_factor = 1.0,\n",
    "    size_factor = 1.0,\n",
    "    lateral_stability_factor = 1.0,\n",
    "    beam_stability_factor = 1.0,\n",
    "    incising_factor = 1.0\n",
    ")\n",
    "#Shear\n",
    "fv_factors = essentials.ShearAdjustmentFactors(\n",
    "    load_duration_factor = 1.0,\n",
    "    wet_service_factor = 0.97,\n",
    "    temperature_factor = 1.0,\n",
    "    incising_factor = 1.0\n",
    ")\n",
    "#Compression\n",
    "fc_factors = essentials.CompressionAdjustmentFactors(\n",
    "    load_duration_factor = 1.0,\n",
    "    wet_service_factor = 0.80,\n",
    "    temperature_factor = 1.0,\n",
    "    column_stability_factor = 1.0,\n",
    "    incising_factor = 1.0\n",
    ")\n",
    "#Compression Perpendicular\n",
    "fc_perp_factors = essentials.PerpendicularAdjustmentFactors(\n",
    "    wet_service_factor = 0.67,\n",
    "    temperature_factor = 1.0,\n",
    "    bearing_area_factor = 1.0,\n",
    "    incising_factor = 1.0\n",
    ")\n",
    "#Elastic Modulus\n",
    "e_factors = essentials.ElasticModulusAdjustmentFactors(\n",
    "    wet_service_factor = 0.90,\n",
    "    temperature_factor = 1.0,\n",
    "    incising_factor = 1.0\n",
    ")\n",
    "    "
   ]
  },
  {
   "cell_type": "markdown",
   "id": "c7296c59",
   "metadata": {},
   "source": [
    "# Ejemplo"
   ]
  },
  {
   "cell_type": "markdown",
   "id": "4eb8aad8",
   "metadata": {},
   "source": [
    "\n",
    "Este cuaderno demostrará el cálculo del peso, las propiedades geométricas y la capacidad de una viga de madera de sección rectangular. \n",
    "Comenzaremos calculando el peso de la viga, luego sus propiedades geométricas, y finalmente, integraremos todos los resultados para calcular la capacidad de la viga.\n",
    "El ejemplo se desarrollará de manera continua a través de todas las secciones, ilustrando el flujo de trabajo típico en el diseño de estructuras de madera.\n"
   ]
  },
  {
   "cell_type": "markdown",
   "id": "271ae95b",
   "metadata": {},
   "source": [
    "## Ejemplo de Función 1: Cálculo del Peso"
   ]
  },
  {
   "cell_type": "markdown",
   "id": "802f094f",
   "metadata": {},
   "source": [
    "\n",
    "Esta sección demuestra cómo calcular el peso de un elemento de madera utilizando la clase `WeightCalculator`.\n",
    "Primero, se crea una instancia de `WoodMaterial`, `RectangularSection` y `MemberDefinition` con los parámetros definidos anteriormente.\n",
    "Luego, se crea una instancia de `WeightCalculator` y se calcula el peso del elemento para el contenido de humedad especificado.\n"
   ]
  },
  {
   "cell_type": "code",
   "execution_count": null,
   "id": "50d49deb",
   "metadata": {},
   "outputs": [],
   "source": [
    "\n",
    "# Creating instances of classes\n",
    "wood_material = essentials.WoodMaterial(\n",
    "    species = species,\n",
    "    specific_gravity = specific_gravity,\n",
    "    fibre_saturation_point = fibre_saturation_point,\n",
    "    e_modulus = e_modulus,\n",
    "    fb = fb,\n",
    "    ft = ft,\n",
    "    fv = fv,\n",
    "    fc = fc,\n",
    "    fc_perp = fc_perp\n",
    "    )\n",
    "section = essentials.RectangularSection(width,depth)\n",
    "element = essentials.MemberDefinition(length)\n",
    "weight_calculator = WeightCalculator(wood_material, section, element)\n",
    "element_weight = weight_calculator.calculate_weight_at_moisture_content(moisture_content)\n",
    "\n",
    "print(f\"El peso del elemento de madera es: {element_weight:.2f} kg\")\n",
    "    "
   ]
  },
  {
   "cell_type": "markdown",
   "id": "c152db3b",
   "metadata": {},
   "source": [
    "## Ejemplo de Función 2: Propiedades Geométricas"
   ]
  },
  {
   "cell_type": "markdown",
   "id": "2227029a",
   "metadata": {},
   "source": [
    "\n",
    "En esta sección, calculamos las propiedades geométricas de la sección rectangular utilizando la clase `RectangularSectionProperties`.\n",
    "Se crea una instancia de `RectangularSectionProperties` con el ancho y la profundidad de la sección.\n",
    "Luego, calculamos el área, los momentos de inercia, los módulos de sección y los radios de giro.\n"
   ]
  },
  {
   "cell_type": "code",
   "execution_count": null,
   "id": "8432b841",
   "metadata": {},
   "outputs": [],
   "source": [
    "\n",
    "# Calculate Section Properties\n",
    "section_properties = RectangularSectionProperties(width, depth)\n",
    "area = section_properties.area()\n",
    "i_yy = section_properties.i_yy()\n",
    "i_zz= section_properties.i_zz()\n",
    "elastic_section_modulus_yy = section_properties.elastic_section_modulus_yy()\n",
    "elastic_section_modulus_zz = section_properties.elastic_section_modulus_zz()\n",
    "radius_gyration_yy = section_properties.radius_of_gyration_yy()\n",
    "radius_gyration_zz = section_properties.radius_of_gyration_zz()\n",
    "\n",
    "print(f\"Área de la sección: {area:.4f} m^2\")\n",
    "print(f\"Momento de inercia Iyy: {i_yy:.6f} m^4\")\n",
    "print(f\"Momento de inercia Izz: {i_zz:.6f} m^4\")\n",
    "print(f\"Módulo de sección elástico Sxx: {elastic_section_modulus_yy:.6f} m^3\")\n",
    "print(f\"Módulo de sección elástico Syy: {elastic_section_modulus_zz:.6f} m^3\")\n",
    "print(f\"Radio de giro r_yy: {radius_gyration_yy:.4f} m\")\n",
    "print(f\"Radio de giro r_zz: {radius_gyration_zz:.4f} m\")\n",
    "    "
   ]
  },
  {
   "cell_type": "markdown",
   "id": "ea544836",
   "metadata": {},
   "source": [
    "## Ejemplo de Función 3: Longitud Efectiva"
   ]
  },
  {
   "cell_type": "markdown",
   "id": "8b84b216",
   "metadata": {},
   "source": [
    "\n",
    "Aquí, calculamos la longitud efectiva de la viga usando la función `effective_length`.\n",
    "La longitud efectiva se calcula multiplicando la longitud real de la viga por el factor de longitud efectiva (K).\n"
   ]
  },
  {
   "cell_type": "code",
   "execution_count": null,
   "id": "5ee6f282",
   "metadata": {},
   "outputs": [],
   "source": [
    "\n",
    "# Calculate Effective Length\n",
    "effective_length_value = effective_length(k_factor, length)\n",
    "print(f\"Longitud efectiva de la viga: {effective_length_value:.2f} m\")\n",
    "    "
   ]
  },
  {
   "cell_type": "markdown",
   "id": "6953e89f",
   "metadata": {},
   "source": [
    "## Ejemplo de Función 4: Factores Combinados"
   ]
  },
  {
   "cell_type": "markdown",
   "id": "670e98a9",
   "metadata": {},
   "source": [
    "\n",
    "En esta sección, demostramos cómo utilizar la clase `SummarizeFactors` para calcular los factores combinados.\n",
    "Se crea una instancia de `SummarizeFactors` con todos los factores de ajuste definidos anteriormente.\n",
    "Luego, se calcula el factor combinado para cada propiedad mecánica (tensión, flexión, corte, compresión, compresión perpendicular a la fibra y módulo de elasticidad).\n"
   ]
  },
  {
   "cell_type": "code",
   "execution_count": null,
   "id": "5883187a",
   "metadata": {},
   "outputs": [],
   "source": [
    "\n",
    "# Calculate Combined Factors\n",
    "summarize_factors = SummarizeFactors(\n",
    "    tension_factors = ft_factors,\n",
    "    bending_factors = fb_factors,\n",
    "    shear_factors = fv_factors,\n",
    "    compression_factors = fc_factors,\n",
    "    compression_perp_factors = fc_perp_factors,\n",
    "    elastic_modulus_factors = e_factors,\n",
    ")\n",
    "\n",
    "combined_factors = summarize_factors.calculate_combined_factors()\n",
    "print(f\"Factores combinados: {combined_factors}\")\n",
    "    "
   ]
  },
  {
   "cell_type": "markdown",
   "id": "1c983257",
   "metadata": {},
   "source": [
    "# Pruebas"
   ]
  },
  {
   "cell_type": "markdown",
   "id": "09190327",
   "metadata": {},
   "source": [
    "\n",
    "### Prueba para `WeightCalculator.calculate_density_at_moisture_content`\n",
    "\n",
    "```python\n",
    "import pytest\n",
    "from timber_nds.calculation import WeightCalculator\n",
    "import timber_nds.essentials as essentials\n",
    "\n",
    "def test_calculate_density_at_moisture_content():\n",
    "    # Arrange\n",
    "    wood_material = essentials.WoodMaterial(\n",
    "        species = \"Douglas Fir-Larch\",\n",
    "        specific_gravity = 0.50,\n",
    "        fibre_saturation_point = 28,\n",
    "        e_modulus = 12400000000,\n",
    "        fb = 25000000,\n",
    "        ft = 15000000,\n",
    "        fv = 3000000,\n",
    "        fc = 17000000,\n",
    "        fc_perp = 4000000\n",
    "    )\n",
    "    section = essentials.RectangularSection(0.150, 0.300)\n",
    "    element = essentials.MemberDefinition(4)\n",
    "    weight_calculator = WeightCalculator(wood_material, section, element)\n",
    "    moisture_content = 19\n",
    "\n",
    "    # Act\n",
    "    density = weight_calculator.calculate_density_at_moisture_content(moisture_content)\n",
    "\n",
    "    # Assert\n",
    "    assert density == pytest.approx(576.13, 0.01)\n",
    "\n",
    "def test_calculate_density_at_moisture_content_invalid_input():\n",
    "        # Arrange\n",
    "    wood_material = essentials.WoodMaterial(\n",
    "        species = \"Douglas Fir-Larch\",\n",
    "        specific_gravity = 0.50,\n",
    "        fibre_saturation_point = 28,\n",
    "        e_modulus = 12400000000,\n",
    "        fb = 25000000,\n",
    "        ft = 15000000,\n",
    "        fv = 3000000,\n",
    "        fc = 17000000,\n",
    "        fc_perp = 4000000\n",
    "    )\n",
    "    section = essentials.RectangularSection(0.150, 0.300)\n",
    "    element = essentials.MemberDefinition(4)\n",
    "    weight_calculator = WeightCalculator(wood_material, section, element)\n",
    "\n",
    "\n",
    "    with pytest.raises(TypeError):\n",
    "        weight_calculator.calculate_density_at_moisture_content(\"invalid\")\n",
    "    with pytest.raises(ValueError):\n",
    "        weight_calculator.calculate_density_at_moisture_content(-5)\n",
    "    with pytest.raises(ValueError):\n",
    "       wood_material_negative_fsp = essentials.WoodMaterial(\n",
    "            species = \"Douglas Fir-Larch\",\n",
    "            specific_gravity = 0.50,\n",
    "            fibre_saturation_point = -28,\n",
    "             e_modulus = 12400000000,\n",
    "            fb = 25000000,\n",
    "            ft = 15000000,\n",
    "            fv = 3000000,\n",
    "            fc = 17000000,\n",
    "            fc_perp = 4000000\n",
    "        )\n",
    "       weight_calculator_negative_fsp = WeightCalculator(wood_material_negative_fsp, section, element)\n",
    "       weight_calculator_negative_fsp.calculate_density_at_moisture_content(10)\n"
   ]
  }
 ],
 "metadata": {},
 "nbformat": 4,
 "nbformat_minor": 5
}
