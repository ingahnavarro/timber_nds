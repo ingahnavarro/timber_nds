{
 "cells": [
  {
   "cell_type": "code",
   "execution_count": 1,
   "id": "bec8e93a-8039-4361-b3c7-f74f8835e8ad",
   "metadata": {},
   "outputs": [],
   "source": [
    "%load_ext autoreload\n",
    "%autoreload 2"
   ]
  },
  {
   "cell_type": "markdown",
   "id": "9fe78daf",
   "metadata": {},
   "source": [
    "# Librerías"
   ]
  },
  {
   "cell_type": "code",
   "execution_count": 2,
   "id": "402f25d5",
   "metadata": {},
   "outputs": [],
   "source": [
    "import numpy as np\n",
    "import timber_nds.essentials as essentials\n",
    "import timber_nds.design as design\n",
    "from timber_nds.calculation import WeightCalculator, effective_length, radius_of_gyration, polar_moment_of_inertia, RectangularSectionProperties"
   ]
  },
  {
   "cell_type": "markdown",
   "id": "0133f352",
   "metadata": {},
   "source": [
    "# Parámetros"
   ]
  },
  {
   "cell_type": "markdown",
   "id": "e73eb8b6",
   "metadata": {},
   "source": [
    "\n",
    "A continuación, se definen todos los parámetros necesarios para el cuaderno, incluyendo factores de reducción de resistencia, propiedades de materiales y dimensiones geométricas.\n",
    "\n",
    "**Factores de Reducción de Resistencia:**\n",
    "\n",
    "*   `phi_tension`: Factor de reducción de resistencia para tensión.\n",
    "*   `phi_bending`: Factor de reducción de resistencia para flexión.\n",
    "*   `phi_shear`: Factor de reducción de resistencia para corte.\n",
    "*   `phi_compression`: Factor de reducción de resistencia para compresión.\n",
    "*    `phi_perp_compression`: Factor de reducción de resistencia para compresión perpendicular a la fibra.\n",
    "\n",
    "**Propiedades del Material:**\n",
    "\n",
    "*   `species`: Especie de madera.\n",
    "*   `specific_gravity`: Gravedad específica de la madera.\n",
    "*   `fibre_saturation_point`: Punto de saturación de la fibra de la madera (%).\n",
    "*   `moisture_content`: Contenido de humedad de la madera (%).\n",
    "*   `e_modulus`: Módulo de elasticidad de la madera (Pa).\n",
    "*  `fb`: Resistencia a la flexión (Pa).\n",
    "* `ft`: Resistencia a la tracción (Pa).\n",
    "* `fv`: Resistencia al corte (Pa).\n",
    "* `fc`: Resistencia a la compresión paralela a la fibra (Pa).\n",
    "* `fc_perp`: Resistencia a la compresión perpendicular a la fibra (Pa).\n",
    "\n",
    "**Dimensiones Geométricas:**\n",
    "\n",
    "*   `width`: Ancho de la sección transversal (m).\n",
    "*   `depth`: Profundidad de la sección transversal (m).\n",
    "*   `length`: Longitud del elemento (m).\n",
    "*   `k_factor`: Factor de longitud efectiva.\n",
    "\n",
    "**Factores de Ajuste:**\n",
    "\n",
    "*   Se definen varios factores de ajuste para tensión, flexión, corte, compresión, compresión perpendicular a la fibra y módulo de elasticidad.\n"
   ]
  },
  {
   "cell_type": "code",
   "execution_count": 3,
   "id": "cec48462",
   "metadata": {},
   "outputs": [],
   "source": [
    "\n",
    "# Factors\n",
    "phi_tension = 0.90\n",
    "phi_bending = 0.85\n",
    "phi_shear = 0.75\n",
    "phi_compression = 0.90\n",
    "phi_perp_compression = 0.65\n",
    "\n",
    "# Material Properties\n",
    "species = \"Douglas Fir-Larch\"\n",
    "specific_gravity = 0.55\n",
    "fibre_saturation_point = 28\n",
    "moisture_content = 19\n",
    "e_modulus = 115000 # kgf/cm2\n",
    "fb = 280  # kgf/cm2\n",
    "ft = 280  # kgf/cm2a\n",
    "fv = 45  # kgf/cm2\n",
    "fc = 280  # kgf/cm2\n",
    "fc_perp = 28  # kgf/cm2\n",
    "\n",
    "\n",
    "# Geometry\n",
    "width = 15.0 # cm\n",
    "depth = 30. # cm\n",
    "length = 4.0 # m\n",
    "k_factor = 1.0\n",
    "\n",
    "# Adjustment factors initialization\n",
    "ft_factors = essentials.TensionAdjustmentFactors(\n",
    "    due_time_effect=1.0,\n",
    "    due_moisture=0.85,\n",
    "    due_temperature=1.0,\n",
    "    due_size=1.0,\n",
    "    due_incising=1.0,\n",
    "    due_format_conversion=1.0,\n",
    "    due_resistance_reduction=1.0\n",
    ")\n",
    "\n",
    "fb_factors_yy = essentials.BendingAdjustmentFactors(\n",
    "    due_time_effect=1.0,\n",
    "    due_moisture=0.85,\n",
    "    due_temperature=1.0,\n",
    "    due_size=1.0,\n",
    "    due_beam_stability=1.0,\n",
    "    due_flat_use=1.0,\n",
    "    due_incising=1.0,\n",
    "    due_repetitive_member=1.0,\n",
    "    due_format_conversion=1.0,\n",
    "    due_resistance_reduction=1.0\n",
    ")\n",
    "\n",
    "fb_factors_zz = essentials.BendingAdjustmentFactors(\n",
    "    due_time_effect=1.0,\n",
    "    due_moisture=0.85,\n",
    "    due_temperature=1.0,\n",
    "    due_size=1.0,\n",
    "    due_beam_stability=1.0,\n",
    "    due_flat_use=1.0,\n",
    "    due_incising=1.0,\n",
    "    due_repetitive_member=1.0,\n",
    "    due_format_conversion=1.0,\n",
    "    due_resistance_reduction=1.0\n",
    ")\n",
    "\n",
    "fv_factors = essentials.ShearAdjustmentFactors(\n",
    "    due_time_effect=1.0,\n",
    "    due_moisture=0.97,\n",
    "    due_temperature=1.0,\n",
    "    due_incising=1.0,\n",
    "    due_format_conversion=1.0,\n",
    "    due_resistance_reduction=1.0\n",
    ")\n",
    "\n",
    "fc_factors_yy = essentials.CompressionAdjustmentFactors(\n",
    "    due_time_effect=1.0,\n",
    "    due_moisture=0.80,\n",
    "    due_temperature=1.0,\n",
    "    due_size=1.0,\n",
    "    due_incising=1.0,\n",
    "    due_column_stability=1.0,\n",
    "    due_format_conversion=1.0,\n",
    "    due_resistance_reduction=1.0\n",
    ")\n",
    "\n",
    "fc_factors_zz = essentials.CompressionAdjustmentFactors(\n",
    "    due_time_effect=1.0,\n",
    "    due_moisture=0.80,\n",
    "    due_temperature=1.0,\n",
    "    due_size=1.0,\n",
    "    due_incising=1.0,\n",
    "    due_column_stability=1.0,\n",
    "    due_format_conversion=1.0,\n",
    "    due_resistance_reduction=1.0\n",
    ")\n",
    "\n",
    "fc_perp_factors = essentials.PerpendicularAdjustmentFactors(\n",
    "    due_time_effect=1.0,\n",
    "    due_moisture=0.67,\n",
    "    due_temperature=1.0,\n",
    "    due_beam_stability=1.0,\n",
    "    due_size=1.0,\n",
    "    due_flat_use=1.0,\n",
    "    due_incising=1.0,\n",
    "    due_repetitive_member=1.0,\n",
    "    due_column_stability=1.0,\n",
    "    due_buckling_stiffness=1.0,\n",
    "    due_bearing_area=1.0,\n",
    "    due_format_conversion=1.0,\n",
    "    due_resistance_reduction=1.0\n",
    ")\n",
    "\n",
    "e_factors = essentials.ElasticModulusAdjustmentFactors(\n",
    "    due_moisture=0.90,\n",
    "    due_temperature=1.0,\n",
    "    due_incising=1.0,\n",
    "    due_format_conversion=1.0\n",
    ")"
   ]
  },
  {
   "cell_type": "markdown",
   "id": "c7296c59",
   "metadata": {},
   "source": [
    "# Ejemplo"
   ]
  },
  {
   "cell_type": "markdown",
   "id": "4eb8aad8",
   "metadata": {},
   "source": [
    "\n",
    "Este cuaderno demostrará el cálculo del peso, las propiedades geométricas y la capacidad de una viga de madera de sección rectangular. \n",
    "Comenzaremos calculando el peso de la viga, luego sus propiedades geométricas, y finalmente, integraremos todos los resultados para calcular la capacidad de la viga.\n",
    "El ejemplo se desarrollará de manera continua a través de todas las secciones, ilustrando el flujo de trabajo típico en el diseño de estructuras de madera.\n"
   ]
  },
  {
   "cell_type": "markdown",
   "id": "271ae95b",
   "metadata": {},
   "source": [
    "## Ejemplo de Función 1: Cálculo del Peso"
   ]
  },
  {
   "cell_type": "markdown",
   "id": "802f094f",
   "metadata": {},
   "source": [
    "\n",
    "Esta sección demuestra cómo calcular el peso de un elemento de madera utilizando la clase `WeightCalculator`.\n",
    "Primero, se crea una instancia de `WoodMaterial`, `RectangularSection` y `MemberDefinition` con los parámetros definidos anteriormente.\n",
    "Luego, se crea una instancia de `WeightCalculator` y se calcula el peso del elemento para el contenido de humedad especificado.\n"
   ]
  },
  {
   "cell_type": "code",
   "execution_count": 4,
   "id": "50d49deb",
   "metadata": {},
   "outputs": [
    {
     "name": "stdout",
     "output_type": "stream",
     "text": [
      "El peso del elemento de madera es: 34029462738.30 kg\n"
     ]
    }
   ],
   "source": [
    "\n",
    "# Creating instances of classes\n",
    "wood_material = essentials.WoodMaterial(\n",
    "    name=species,\n",
    "    specific_gravity=specific_gravity,\n",
    "    fibre_saturation_point=fibre_saturation_point,\n",
    "    tension_strength=ft,\n",
    "    bending_strength=fb,\n",
    "    shear_strength=fv,\n",
    "    compression_perpendicular_strength=fc_perp,\n",
    "    compression_parallel_strength=fc,\n",
    "    elastic_modulus=e_modulus,\n",
    "    color=\"Brown\"\n",
    ")\n",
    "\n",
    "section = essentials.RectangularSection(depth=200)\n",
    "element = essentials.MemberDefinition(length, )\n",
    "weight_calculator = WeightCalculator(wood_material, section, element)\n",
    "element_weight = weight_calculator.calculate_weight_at_moisture_content(moisture_content)\n",
    "\n",
    "print(f\"El peso del elemento de madera es: {element_weight:.2f} kg\")\n",
    "    "
   ]
  },
  {
   "cell_type": "markdown",
   "id": "c152db3b",
   "metadata": {},
   "source": [
    "## Ejemplo de Función 2: Propiedades Geométricas"
   ]
  },
  {
   "cell_type": "markdown",
   "id": "2227029a",
   "metadata": {},
   "source": [
    "\n",
    "En esta sección, calculamos las propiedades geométricas de la sección rectangular utilizando la clase `RectangularSectionProperties`.\n",
    "Se crea una instancia de `RectangularSectionProperties` con el ancho y la profundidad de la sección.\n",
    "Luego, calculamos el área, los momentos de inercia, los módulos de sección y los radios de giro.\n"
   ]
  },
  {
   "cell_type": "code",
   "execution_count": 5,
   "id": "8432b841",
   "metadata": {},
   "outputs": [
    {
     "name": "stdout",
     "output_type": "stream",
     "text": [
      "Área de la sección: 450.0 cm^2\n",
      "Momento de inercia Iyy: 33750.0 cm^4\n",
      "Momento de inercia Izz: 8437.5 cm^4\n",
      "Módulo de sección elástico Sxx: 2250.0 cm^3\n",
      "Módulo de sección elástico Syy: 1125.0 cm^3\n",
      "Radio de giro r_yy: 8.7 cm\n",
      "Radio de giro r_zz: 4.3 cm\n"
     ]
    }
   ],
   "source": [
    "\n",
    "# Calculate Section Properties\n",
    "section_properties = RectangularSectionProperties(width, depth)\n",
    "area = section_properties.area()\n",
    "i_yy = section_properties.moment_of_inertia(\"yy\")\n",
    "i_zz= section_properties.moment_of_inertia(\"zz\")\n",
    "elastic_section_modulus_yy = section_properties.elastic_section_modulus(\"yy\")\n",
    "elastic_section_modulus_zz = section_properties.elastic_section_modulus(\"zz\")\n",
    "radius_gyration_yy = section_properties.radius_of_gyration(\"yy\")\n",
    "radius_gyration_zz = section_properties.radius_of_gyration(\"zz\")\n",
    "\n",
    "print(f\"Área de la sección: {area:.1f} cm^2\")\n",
    "print(f\"Momento de inercia Iyy: {i_yy:.1f} cm^4\")\n",
    "print(f\"Momento de inercia Izz: {i_zz:.1f} cm^4\")\n",
    "print(f\"Módulo de sección elástico Sxx: {elastic_section_modulus_yy:.1f} cm^3\")\n",
    "print(f\"Módulo de sección elástico Syy: {elastic_section_modulus_zz:.1f} cm^3\")\n",
    "print(f\"Radio de giro r_yy: {radius_gyration_yy:.1f} cm\")\n",
    "print(f\"Radio de giro r_zz: {radius_gyration_zz:.1f} cm\")\n",
    "    "
   ]
  },
  {
   "cell_type": "markdown",
   "id": "ea544836",
   "metadata": {},
   "source": [
    "## Ejemplo de Función 3: Longitud Efectiva"
   ]
  },
  {
   "cell_type": "markdown",
   "id": "8b84b216",
   "metadata": {},
   "source": [
    "\n",
    "Aquí, calculamos la longitud efectiva de la viga usando la función `effective_length`.\n",
    "La longitud efectiva se calcula multiplicando la longitud real de la viga por el factor de longitud efectiva (K).\n"
   ]
  },
  {
   "cell_type": "code",
   "execution_count": 6,
   "id": "5ee6f282",
   "metadata": {},
   "outputs": [
    {
     "name": "stdout",
     "output_type": "stream",
     "text": [
      "Longitud efectiva de la viga: 4.00 m\n"
     ]
    }
   ],
   "source": [
    "\n",
    "# Calculate Effective Length\n",
    "effective_length_value = effective_length(k_factor, length)\n",
    "print(f\"Longitud efectiva de la viga: {effective_length_value:.2f} m\")\n",
    "    "
   ]
  },
  {
   "cell_type": "markdown",
   "id": "6953e89f",
   "metadata": {},
   "source": [
    "## Ejemplo de Función 4: Factores Combinados"
   ]
  },
  {
   "cell_type": "markdown",
   "id": "670e98a9",
   "metadata": {},
   "source": [
    "\n",
    "En esta sección, demostramos cómo utilizar la clase `WoodElementCalculator` para calcular los factores combinados.\n",
    "Se crea una instancia de `WoodElementCalculator` con todos los factores de ajuste definidos anteriormente.\n",
    "Luego, se calcula el factor combinado para cada propiedad mecánica (tensión, flexión, corte, compresión, compresión perpendicular a la fibra y módulo de elasticidad).\n"
   ]
  },
  {
   "cell_type": "code",
   "execution_count": 7,
   "id": "5883187a",
   "metadata": {},
   "outputs": [
    {
     "name": "stdout",
     "output_type": "stream",
     "text": [
      "Factores combinados: {'tension': np.float64(0.85), 'bending_yy': np.float64(0.85), 'bending_zz': np.float64(0.85), 'shear': np.float64(0.97), 'compression_yy': np.float64(0.8), 'compression_zz': np.float64(0.8), 'compression_perp': np.float64(0.67), 'elastic_modulus': np.float64(0.9)}\n"
     ]
    }
   ],
   "source": [
    "# Crear una instancia de WoodElementCalculator\n",
    "wood_element_calculator = design.WoodElementCalculator(\n",
    "    tension_factors = ft_factors,\n",
    "    bending_factors_yy = fb_factors_yy,\n",
    "    bending_factors_zz = fb_factors_zz,\n",
    "    shear_factors = fv_factors,\n",
    "    compression_factors_yy = fc_factors_yy,\n",
    "    compression_factors_zz = fc_factors_zz,\n",
    "    compression_perp_factors = fc_perp_factors,\n",
    "    elastic_modulus_factors = e_factors,\n",
    "    material_properties = wood_material,\n",
    "    section_properties = section_properties\n",
    ")\n",
    "\n",
    "# Calcular los factores combinados\n",
    "combined_factors = wood_element_calculator.calculate_combined_factors()\n",
    "print(f\"Factores combinados: {combined_factors}\")\n",
    "    "
   ]
  },
  {
   "cell_type": "markdown",
   "id": "894f6d55-decb-416d-8af1-64ad9dda4ab5",
   "metadata": {},
   "source": [
    "## Ejemplo de Función 5: Resistencia del elemento"
   ]
  },
  {
   "cell_type": "code",
   "execution_count": 8,
   "id": "13e750f5-3ab9-47d3-ab17-c9f906a879dc",
   "metadata": {},
   "outputs": [],
   "source": [
    "tension_strength = wood_element_calculator.section_tension_strength()\n",
    "bending_strength_yy = wood_element_calculator.section_bending_strength(\"yy\")\n",
    "bending_strength_zz = wood_element_calculator.section_bending_strength(\"zz\")\n",
    "shear_strength = wood_element_calculator.section_shear_strength()\n",
    "compression_strength_yy = wood_element_calculator.section_compression_strength(\"yy\")\n",
    "compression_strength_zz = wood_element_calculator.section_compression_strength(\"zz\")\n",
    "compression_perp_strength = wood_element_calculator.section_compression_perp_strength()\n"
   ]
  },
  {
   "cell_type": "code",
   "execution_count": 10,
   "id": "4fcbdaa6-6011-4467-9441-59d2be510f01",
   "metadata": {},
   "outputs": [
    {
     "name": "stdout",
     "output_type": "stream",
     "text": [
      "La resistencia a la tensión es 107100.0 kgf\n",
      "La resistencia a la flexión es 535500.0 kgf cm\n",
      "La resistencia a la flexión es 267750.0 kgf cm\n",
      "La resistencia al cortante es 13095.0 kgf\n",
      "La resistencia a la compresión yy es 504000.0 kgf\n",
      "La resistencia a la compresión zz es 252000.0 kgf\n",
      "La resistencia a la compresión perpendicular es 84420.0 kgf\n"
     ]
    }
   ],
   "source": [
    "print(f'La resistencia a la tensión es {float(tension_strength)} kgf')\n",
    "print(f'La resistencia a la flexión es {float(bending_strength_yy)} kgf cm')\n",
    "print(f'La resistencia a la flexión es {float(bending_strength_zz)} kgf cm')\n",
    "print(f'La resistencia al cortante es {float(shear_strength)} kgf')\n",
    "print(f'La resistencia a la compresión yy es {float(compression_strength_yy)} kgf')\n",
    "print(f'La resistencia a la compresión zz es {float(compression_strength_zz)} kgf')\n",
    "print(f'La resistencia a la compresión perpendicular es {float(compression_perp_strength)} kgf')"
   ]
  },
  {
   "cell_type": "markdown",
   "id": "1c983257",
   "metadata": {},
   "source": [
    "# Pruebas"
   ]
  },
  {
   "cell_type": "markdown",
   "id": "09190327",
   "metadata": {
    "jp-MarkdownHeadingCollapsed": true
   },
   "source": [
    "\n",
    "### Prueba para `WeightCalculator.calculate_density_at_moisture_content`\n",
    "\n",
    "```python\n",
    "import pytest\n",
    "from timber_nds.calculation import WeightCalculator\n",
    "import timber_nds.essentials as essentials\n",
    "\n",
    "def test_calculate_density_at_moisture_content():\n",
    "    # Arrange\n",
    "    wood_material = essentials.WoodMaterial(\n",
    "        species = \"Douglas Fir-Larch\",\n",
    "        specific_gravity = 0.50,\n",
    "        fibre_saturation_point = 28,\n",
    "        e_modulus = 12400000000,\n",
    "        fb = 25000000,\n",
    "        ft = 15000000,\n",
    "        fv = 3000000,\n",
    "        fc = 17000000,\n",
    "        fc_perp = 4000000\n",
    "    )\n",
    "    section = essentials.RectangularSection(0.150, 0.300)\n",
    "    element = essentials.MemberDefinition(4)\n",
    "    weight_calculator = WeightCalculator(wood_material, section, element)\n",
    "    moisture_content = 19\n",
    "\n",
    "    # Act\n",
    "    density = weight_calculator.calculate_density_at_moisture_content(moisture_content)\n",
    "\n",
    "    # Assert\n",
    "    assert density == pytest.approx(576.13, 0.01)\n",
    "\n",
    "def test_calculate_density_at_moisture_content_invalid_input():\n",
    "        # Arrange\n",
    "    wood_material = essentials.WoodMaterial(\n",
    "        species = \"Douglas Fir-Larch\",\n",
    "        specific_gravity = 0.50,\n",
    "        fibre_saturation_point = 28,\n",
    "        e_modulus = 12400000000,\n",
    "        fb = 25000000,\n",
    "        ft = 15000000,\n",
    "        fv = 3000000,\n",
    "        fc = 17000000,\n",
    "        fc_perp = 4000000\n",
    "    )\n",
    "    section = essentials.RectangularSection(0.150, 0.300)\n",
    "    element = essentials.MemberDefinition(4)\n",
    "    weight_calculator = WeightCalculator(wood_material, section, element)\n",
    "\n",
    "\n",
    "    with pytest.raises(TypeError):\n",
    "        weight_calculator.calculate_density_at_moisture_content(\"invalid\")\n",
    "    with pytest.raises(ValueError):\n",
    "        weight_calculator.calculate_density_at_moisture_content(-5)\n",
    "    with pytest.raises(ValueError):\n",
    "       wood_material_negative_fsp = essentials.WoodMaterial(\n",
    "            species = \"Douglas Fir-Larch\",\n",
    "            specific_gravity = 0.50,\n",
    "            fibre_saturation_point = -28,\n",
    "             e_modulus = 12400000000,\n",
    "            fb = 25000000,\n",
    "            ft = 15000000,\n",
    "            fv = 3000000,\n",
    "            fc = 17000000,\n",
    "            fc_perp = 4000000\n",
    "        )\n",
    "       weight_calculator_negative_fsp = WeightCalculator(wood_material_negative_fsp, section, element)\n",
    "       weight_calculator_negative_fsp.calculate_density_at_moisture_content(10)\n"
   ]
  }
 ],
 "metadata": {
  "kernelspec": {
   "display_name": "timber_design",
   "language": "python",
   "name": "timber_design"
  },
  "language_info": {
   "codemirror_mode": {
    "name": "ipython",
    "version": 3
   },
   "file_extension": ".py",
   "mimetype": "text/x-python",
   "name": "python",
   "nbconvert_exporter": "python",
   "pygments_lexer": "ipython3",
   "version": "3.12.8"
  }
 },
 "nbformat": 4,
 "nbformat_minor": 5
}
